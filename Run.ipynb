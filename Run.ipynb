{
  "cells": [
    {
      "cell_type": "markdown",
      "id": 3.0293430767166755e+38,
      "metadata": {
        "id": 3.0293430767166755e+38
      },
      "source": [
        "# Gradio Demo: sentiment_analysis\n",
        "### This sentiment analaysis demo takes in input text and returns its classification for either positive, negative or neutral using Gradio's Label output. It also uses the default interpretation method so users can click the Interpret button after a submission and see which words had the biggest effect on the output.\n",
        "        "
      ]
    },
    {
      "cell_type": "code",
      "execution_count": null,
      "id": 2.7299665331067346e+38,
      "metadata": {
        "id": 2.7299665331067346e+38
      },
      "outputs": [],
      "source": [
        "!pip install -q gradio nltk"
      ]
    },
    {
      "cell_type": "code",
      "execution_count": null,
      "id": 2.8891853944186117e+38,
      "metadata": {
        "id": 2.8891853944186117e+38
      },
      "outputs": [],
      "source": [
        "import gradio as gr\n",
        "import nltk\n",
        "from nltk.sentiment.vader import SentimentIntensityAnalyzer\n",
        "\n",
        "nltk.download(\"vader_lexicon\")\n",
        "sid = SentimentIntensityAnalyzer()\n",
        "\n",
        "def sentiment_analysis(text):\n",
        "    scores = sid.polarity_scores(text)\n",
        "    del scores[\"compound\"]\n",
        "    return scores\n",
        "\n",
        "demo = gr.Interface(\n",
        "    fn=sentiment_analysis,\n",
        "    inputs=gr.Textbox(placeholder=\"Enter a positive or negative sentence here...\"),\n",
        "    outputs=\"label\",\n",
        "    interpretation=\"default\",\n",
        "    examples=[[\"This is wonderful!\"]])\n",
        "\n",
        "demo.launch()"
      ]
    }
  ],
  "metadata": {
    "colab": {
      "provenance": []
    }
  },
  "nbformat": 4,
  "nbformat_minor": 5
}